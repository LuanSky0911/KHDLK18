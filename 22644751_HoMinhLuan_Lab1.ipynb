{
 "cells": [
  {
   "cell_type": "markdown",
   "id": "1ea45b51",
   "metadata": {},
   "source": [
    "Bài 1. Điểm môn học của một nhóm SV được cho như bên dưới:\n",
    "| Sinh viên | BT cá nhân| Báo cáo |Giữa kỳ |Cuối kỳ\t |\n",
    "|-------|-------|-------|-------|-------|\n",
    "| A | 7 | 8 |9 |5 |\n",
    "| B | 8 | 7 |4|6 |\n",
    "| C | 7 |5 |8 |6 |\n",
    "| D| 6 | 8 |5 |4 |\n",
    "| E | 9 | 9 |8 |7 |\n",
    "| F | 10 | 8 |9|8 |\n",
    "\n",
    "| Tỷ lệ % điểm |      |\n",
    "|:-------|-------:|\n",
    "| BT cá nhân | 10% |\n",
    "| Báo cáo | 20% |\n",
    "| Giữa kỳ | 30% |\n",
    "| Cuối kỳ| 40% |\n",
    "\n",
    "Hãy nhập dữ liệu điểm vào ở dạng ma trận, tính ra điểm trung bình của từng HS và cho biết SV nào qua môn (điểm TB >= 5.0)."
   ]
  },
  {
   "cell_type": "code",
   "execution_count": 16,
   "id": "57ea8c34",
   "metadata": {},
   "outputs": [
    {
     "name": "stdout",
     "output_type": "stream",
     "text": [
      "Sinh viên A: Điểm trung bình = 7.00\n",
      "Sinh viên B: Điểm trung bình = 5.80\n",
      "Sinh viên C: Điểm trung bình = 6.50\n",
      "Sinh viên D: Điểm trung bình = 5.30\n",
      "Sinh viên E: Điểm trung bình = 7.90\n",
      "Sinh viên F: Điểm trung bình = 8.50\n",
      "\n",
      "Sinh viên đã qua môn:\n",
      "A, B, C, D, E, F\n"
     ]
    }
   ],
   "source": [
    "# Nhập dữ liệu điểm\n",
    "diem_matrix = [\n",
    "    [7, 8, 9, 5],\n",
    "    [8, 7, 4, 6],\n",
    "    [7, 5, 8, 6],\n",
    "    [6, 8, 5, 4],\n",
    "    [9, 9, 8, 7],\n",
    "    [10, 8, 9, 8]\n",
    "]\n",
    "\n",
    "# Tính điểm trung bình của từng sinh viên\n",
    "diem_tb_sv = [(row[0] * 0.1 + row[1] * 0.2 + row[2] * 0.3 + row[3] * 0.4) for row in diem_matrix]\n",
    "\n",
    "# Xác định sinh viên nào đã qua môn (điểm trung bình >= 5.0)\n",
    "sinh_vien_qua_mon = [chr(ord('A') + i) for i, diem_tb in enumerate(diem_tb_sv) if diem_tb >= 5.0]\n",
    "\n",
    "# In điểm trung bình của từng sinh viên\n",
    "for i, diem_tb in enumerate(diem_tb_sv):\n",
    "    print(f\"Sinh viên {chr(ord('A') + i)}: Điểm trung bình = {diem_tb:.2f}\")\n",
    "\n",
    "# In sinh viên đã qua môn\n",
    "print(\"\\nSinh viên đã qua môn:\")\n",
    "print(\", \".join(sinh_vien_qua_mon))\n"
   ]
  },
  {
   "cell_type": "markdown",
   "id": "21a78e91",
   "metadata": {},
   "source": [
    "Bài 2.\n",
    "Sinh ngẫu nhiên ra 2 ma trận kích thước 3 x 3 và có các phần tử nguyên từ 0 đến 10.\n",
    "a)\tTính tổng phần tử của mỗi ma trận.\n",
    "b)\tSo sánh norm của vector hàng 1 và vector hàng 3 của hai ma trận.\n",
    "c)\tTìm ma trận C, D, E là tổng, hiệu, tích của hai ma trận trên.\n",
    "Gợi ý: sử dụng lệnh np.random.randint(?, size=(?, ?)).\n"
   ]
  },
  {
   "cell_type": "code",
   "execution_count": 6,
   "id": "265dcc1a",
   "metadata": {},
   "outputs": [
    {
     "name": "stdout",
     "output_type": "stream",
     "text": [
      "a) Tổng phần tử của ma trận A: 60\n",
      "   Tổng phần tử của ma trận B: 47\n",
      "\n",
      "b) Norm của vector hàng 1 của ma trận A: 12.449899597988733\n",
      "   Norm của vector hàng 3 của ma trận A: 12.68857754044952\n",
      "   Norm của vector hàng 1 của ma trận B: 8.831760866327848\n",
      "   Norm của vector hàng 3 của ma trận B: 7.681145747868608\n",
      "\n",
      "c) Ma trận C (Tổng):\n",
      "[[12 11 12]\n",
      " [10 18 12]\n",
      " [ 7 10 15]]\n",
      "\n",
      "   Ma trận D (Hiệu):\n",
      "[[-2  7  2]\n",
      " [-4  0  0]\n",
      " [ 1  8  1]]\n",
      "\n",
      "   Ma trận E (Tích):\n",
      "[[119  98 128]\n",
      " [102  93 111]\n",
      " [115  97 130]]\n"
     ]
    }
   ],
   "source": [
    "import numpy as np\n",
    "\n",
    "# Sinh ngẫu nhiên hai ma trận kích thước 3x3 với các phần tử nguyên từ 0 đến 10\n",
    "matrix_A = np.random.randint(0, 11, size=(3, 3))\n",
    "matrix_B = np.random.randint(0, 11, size=(3, 3))\n",
    "\n",
    "# a) Tính tổng phần tử của mỗi ma trận\n",
    "sum_A = np.sum(matrix_A)\n",
    "sum_B = np.sum(matrix_B)\n",
    "\n",
    "print(\"a) Tổng phần tử của ma trận A:\", sum_A)\n",
    "print(\"   Tổng phần tử của ma trận B:\", sum_B)\n",
    "\n",
    "# b) So sánh norm của vector hàng 1 và vector hàng 3 của hai ma trận\n",
    "norm_row1_A = np.linalg.norm(matrix_A[0, :])\n",
    "norm_row3_A = np.linalg.norm(matrix_A[2, :])\n",
    "\n",
    "norm_row1_B = np.linalg.norm(matrix_B[0, :])\n",
    "norm_row3_B = np.linalg.norm(matrix_B[2, :])\n",
    "\n",
    "print(\"\\nb) Norm của vector hàng 1 của ma trận A:\", norm_row1_A)\n",
    "print(\"   Norm của vector hàng 3 của ma trận A:\", norm_row3_A)\n",
    "print(\"   Norm của vector hàng 1 của ma trận B:\", norm_row1_B)\n",
    "print(\"   Norm của vector hàng 3 của ma trận B:\", norm_row3_B)\n",
    "\n",
    "# c) Tìm ma trận C, D, E là tổng, hiệu, tích của hai ma trận trên\n",
    "matrix_C = matrix_A + matrix_B\n",
    "matrix_D = matrix_A - matrix_B\n",
    "matrix_E = np.dot(matrix_A, matrix_B)\n",
    "\n",
    "print(\"\\nc) Ma trận C (Tổng):\")\n",
    "print(matrix_C)\n",
    "\n",
    "print(\"\\n   Ma trận D (Hiệu):\")\n",
    "print(matrix_D)\n",
    "\n",
    "print(\"\\n   Ma trận E (Tích):\")\n",
    "print(matrix_E)\n"
   ]
  },
  {
   "cell_type": "markdown",
   "id": "b2b586ec",
   "metadata": {},
   "source": [
    "Bài 3.\n",
    "Hãy dùng lệnh để sinh ra vector độ dài 21 với các phần tử từ a đến b nào đó. Chẳng hạn: a = 0, b = 100 hoặc a = 10.5, b = 50.\n",
    "a)Dùng lệnh split, chia nhỏ vector kia ra thành 3 vector con, đặt là u, v, w.\n",
    "b)Tính u*v và v.dot(w)\n",
    "c)Tính shape của u trước và sau khi transpose, nhận xét.\n",
    "Gợi ý: lệnh np.linspace(a, b, c) với a, b là các số thực và c là số nguyên dương cho biết số phần tử cách đều nhau trong [a;b]\n"
   ]
  },
  {
   "cell_type": "code",
   "execution_count": 14,
   "id": "fc7a3bd6",
   "metadata": {},
   "outputs": [
    {
     "name": "stdout",
     "output_type": "stream",
     "text": [
      "Vecto u:  [ 0.  5. 10. 15. 20. 25. 30.]\n",
      "vecto v:  [35. 40. 45. 50. 55. 60. 65.]\n",
      "Vecto w:  [ 70.  75.  80.  85.  90.  95. 100.]\n",
      "b) Tích vô hướng của u và v:\n",
      "[   0.  200.  450.  750. 1100. 1500. 1950.]\n",
      "\n",
      "   Tích vô hướng của v và w:\n",
      "30450.0\n",
      "\n",
      "c) Shape của u trước khi transpose: (7,)\n",
      "   Shape của u sau khi transpose: (7, 1)\n"
     ]
    }
   ],
   "source": [
    "import numpy as np\n",
    "\n",
    "# Sinh vector độ dài 21 với các phần tử từ a đến b\n",
    "a = 0\n",
    "b = 100\n",
    "vector_x = np.linspace(a, b, 21)\n",
    "\n",
    "# a) Chia nhỏ vector thành 3 vector con u, v, w\n",
    "u, v, w = np.split(vector_x, [7, 14])\n",
    "print(\"Vecto u: \",u)\n",
    "print(\"vecto v: \",v)\n",
    "print(\"Vecto w: \",w)\n",
    "# b) Tính u*v và v.dot(w)\n",
    "uv_product = u * v\n",
    "vw_dot_product = np.dot(v, w)\n",
    "\n",
    "print(\"b) Tích vô hướng của u và v:\")\n",
    "print(uv_product)\n",
    "print(\"\\n   Tích vô hướng của v và w:\")\n",
    "print(vw_dot_product)\n",
    "\n",
    "# c) Tính shape của u trước và sau khi transpose, nhận xét\n",
    "shape_u_before_transpose = u.shape\n",
    "u_transposed = u.reshape((u.shape[0], 1))  \n",
    "shape_u_after_transpose = u_transposed.shape\n",
    "\n",
    "print(\"\\nc) Shape của u trước khi transpose:\", shape_u_before_transpose)\n",
    "print(\"   Shape của u sau khi transpose:\", shape_u_after_transpose)\n"
   ]
  },
  {
   "cell_type": "markdown",
   "id": "ea99bfb9",
   "metadata": {},
   "source": [
    "Nhận xét: Việc transpose vector cột (1D array) thành vector cột (2D array) sẽ tạo ra một ma trận có shape (n, 1), trong đó n là số phần tử của vector gốc. Trong trường hợp tren, sau khi transpose, shape của vector u đã thay đổi từ (7,) thành (7, 1)."
   ]
  }
 ],
 "metadata": {
  "kernelspec": {
   "display_name": "Python 3 (ipykernel)",
   "language": "python",
   "name": "python3"
  },
  "language_info": {
   "codemirror_mode": {
    "name": "ipython",
    "version": 3
   },
   "file_extension": ".py",
   "mimetype": "text/x-python",
   "name": "python",
   "nbconvert_exporter": "python",
   "pygments_lexer": "ipython3",
   "version": "3.10.6"
  }
 },
 "nbformat": 4,
 "nbformat_minor": 5
}
